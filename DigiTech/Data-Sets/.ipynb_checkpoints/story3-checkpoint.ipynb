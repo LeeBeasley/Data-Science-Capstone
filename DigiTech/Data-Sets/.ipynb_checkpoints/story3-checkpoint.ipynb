{
 "cells": [
  {
   "cell_type": "code",
   "execution_count": 1,
   "id": "d18f85a1",
   "metadata": {},
   "outputs": [],
   "source": [
    "#Importing necessary libraries\n",
    "import pandas as pd\n",
    "import matplotlib.pyplot as plt\n",
    "import seaborn as sns"
   ]
  },
  {
   "cell_type": "code",
   "execution_count": 2,
   "id": "00ec1dab",
   "metadata": {},
   "outputs": [],
   "source": [
    "#Loading the dataset\n",
    "data= pd.read_csv('googlePlayStore.csv')"
   ]
  },
  {
   "cell_type": "code",
   "execution_count": 6,
   "id": "3f3de4e4",
   "metadata": {},
   "outputs": [],
   "source": [
    "#Investigating the \"Price\" column\n",
    "#Remove non-numeric entries\n",
    "data = data[data['Price'].str.contains(r'^\\$?\\d+\\.?\\d*$', na=False)]\n",
    "\n",
    "#Remove the dollar sign and convert to float\n",
    "data['Price'] = data['Price'].str.replace('$', '').astype(float)"
   ]
  },
  {
   "cell_type": "code",
   "execution_count": null,
   "id": "28392afd",
   "metadata": {},
   "outputs": [],
   "source": []
  }
 ],
 "metadata": {
  "kernelspec": {
   "display_name": "Python 3 (ipykernel)",
   "language": "python",
   "name": "python3"
  },
  "language_info": {
   "codemirror_mode": {
    "name": "ipython",
    "version": 3
   },
   "file_extension": ".py",
   "mimetype": "text/x-python",
   "name": "python",
   "nbconvert_exporter": "python",
   "pygments_lexer": "ipython3",
   "version": "3.11.7"
  }
 },
 "nbformat": 4,
 "nbformat_minor": 5
}
